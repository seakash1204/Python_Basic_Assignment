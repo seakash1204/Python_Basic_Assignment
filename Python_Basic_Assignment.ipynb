{
 "cells": [
  {
   "cell_type": "markdown",
   "id": "e99b45a1-9ccb-4c3f-83bb-3e1f74d33c15",
   "metadata": {},
   "source": [
    "# Theoretical Questions and Answers"
   ]
  },
  {
   "cell_type": "raw",
   "id": "a41dd596-c3fe-4e31-b56f-74ee4090c3bb",
   "metadata": {},
   "source": [
    "Q-1 What is Python, and why is it popular?                                                                                                             \n",
    "Ans :- Python is a programming language which is widely used for Machine learning, Data Science, Data Engineering, Data Analysis and Web Developoment,  it is popular because it has vast number of libraries and an active community support."
   ]
  },
  {
   "cell_type": "raw",
   "id": "5762ad7e-9842-459f-8474-ad40c88c29bf",
   "metadata": {},
   "source": [
    "Q-2 What is an interpreter in Python?                                                                                                                 \n",
    "Ans :- An interpreter in Python is a program that reads and executes Python code line by line, translating it into machine code at runtime"
   ]
  },
  {
   "cell_type": "raw",
   "id": "2ff8bd36-163e-44d0-9960-67e10c3595d1",
   "metadata": {},
   "source": [
    "Q-3 What are pre-defined keywords in Python?                                                                                                           Ans :- Pre-defined keyword in Python are special words that are reserved by the language and have special meaning for that keyword in that programming language. It is also known as reserved words."
   ]
  },
  {
   "cell_type": "raw",
   "id": "5e3b9781-6c16-4540-b9e8-11b13e4c0f6c",
   "metadata": {},
   "source": [
    "Q-4 Can keywords be used as variable names?\n",
    "Ans :- No, keyword have special meaning in programming language, so keywords can't be used as variable names, function names."
   ]
  },
  {
   "cell_type": "raw",
   "id": "3220bf2d-a456-4504-99ed-805b84eb9118",
   "metadata": {},
   "source": [
    "Q-5 What is mutability in Python?\n",
    "Ans :- Mutability in python means once you create a variable and define some value to that, you can change it later whenever needed. \n",
    "int, list, dictionary are few examples of mutable datatypes."
   ]
  },
  {
   "cell_type": "raw",
   "id": "9a4fdd05-2329-40aa-bd86-3ab993dea686",
   "metadata": {},
   "source": [
    "Q-6 Why are lists mutable, but tuples are immutable?\n",
    "Ans :- List are mutable because it designed to hold and manage dynamic data.\n",
    "    Ex : adding, removing or changing elements require mutability\n",
    "    Tuple are immutable because it designed to hold fixed data collections - things that shouldn't change"
   ]
  },
  {
   "cell_type": "raw",
   "id": "10a36427-6135-4804-a7fe-7ae73f115156",
   "metadata": {},
   "source": [
    "Q-7 What is the difference between “==” and “is” operators in Python?\n",
    "Ans :- == (Comparison Operator), it checks if value are equal or not?\n",
    "      is (identity Operator), it check if two variables refer to the same object in memory"
   ]
  },
  {
   "cell_type": "raw",
   "id": "b002812f-0376-465a-99d8-d8b7825ce15a",
   "metadata": {},
   "source": [
    "Q-8 What are logical operators in Python?\n",
    "Ans :- Logical operators in Python are used to combine conditional statements. They return either True or False based on the logic of the expression involved. There are 3 logical operators in Python i.e, and, or, not."
   ]
  },
  {
   "cell_type": "raw",
   "id": "e6cff7fd-a645-4c39-840c-1bd745389b2c",
   "metadata": {},
   "source": [
    "Q-9 What is type casting in Python?\n",
    "Ans :- When converting one data type to another in Python is called Typecasting, there are two type of typecasting in Python\n",
    "    (i) Implicit Typecasting\n",
    "    (ii) Explicit Typecasting"
   ]
  },
  {
   "cell_type": "raw",
   "id": "8c81b0ca-7e51-4d01-ad03-f85a79d4c775",
   "metadata": {},
   "source": [
    "Q-10 What is the difference between implicit and explicit type casting?\n",
    "Ans :- (i) Impicit Typecasting : Python internally detects that datatype of the variable should be change and it change automatically\n",
    "      (ii) Explicit Typecasting : When a programmer needs to change from one datatype to other datatype"
   ]
  },
  {
   "cell_type": "raw",
   "id": "615558a3-2824-4922-898c-661097147948",
   "metadata": {},
   "source": [
    "Q-11 What is the purpose of conditional statements in Python\n",
    "Ans :- Conditional statements are used to check the given condition is True of False and base on the condition, we have some line of code to run.\n",
    "    Python have 3 conditional statement, i.e. if, elif, else.\n",
    "    Example : if condition == True:\n",
    "                This code will be executed\n",
    "              elif condition == True:\n",
    "                This code will be executed\n",
    "              else:\n",
    "                If above condition are false, then this code will be executed"
   ]
  },
  {
   "cell_type": "raw",
   "id": "77b7a6a7-20d7-48a2-a0d1-751543dcbd6a",
   "metadata": {},
   "source": [
    "Q-12  How does the elif statement work?\n",
    "Ans :- The elif (short for else if) statemnet in Python is used to check multiple conditions in a controlled sequence. It comes after an if statement and before an else statement, and elif will be executed only when if condtion is false."
   ]
  },
  {
   "cell_type": "raw",
   "id": "55eb7bfc-31ec-43b9-b3a1-8b27e18363c9",
   "metadata": {},
   "source": [
    "Q-13 What is the difference between for and while loops?\n",
    "Ans :- for loop : it is used when we know how many time the loop should be executed, it is best for iterating over items.\n",
    "       while loop : while loop runs until a given condition is false, it repeated as long as the condition is true. it might get stuck into an infinte                     loop"
   ]
  },
  {
   "cell_type": "raw",
   "id": "23940cac-82e2-4039-8b17-5384d0c59ddb",
   "metadata": {},
   "source": [
    "Q-14 Describe a scenario where a while loop is more suitable than a for loop?\n",
    "Ans : correct_password = \"Akash@123\"\n",
    "      attempts = 0\n",
    "      max_attempts = 3\n",
    "\n",
    "      while attempts < max_attempts:\n",
    "            entered_password = input(\"Enter Password : \")\n",
    "            if entered_password == correct_password:\n",
    "                print(\"You have correct password\")\n",
    "                break\n",
    "            else:\n",
    "                print(\"Incorrect Password, try again\")\n",
    "                attempts += 1\n",
    "\n",
    "      if attempts == max_attempts:\n",
    "            print(\"Access Denied, too many wrong password entered\")"
   ]
  },
  {
   "cell_type": "markdown",
   "id": "5831edf1-4b53-4059-89c5-e326415d3e3b",
   "metadata": {},
   "source": [
    "# Practical Questions and Answers"
   ]
  },
  {
   "cell_type": "markdown",
   "id": "7a9ec87c-27cd-4599-ad4b-13d80f13ac98",
   "metadata": {},
   "source": [
    "Q-1 Write a Python program to print \"Hello, World!"
   ]
  },
  {
   "cell_type": "code",
   "execution_count": 13,
   "id": "c5b4c914-dd3f-41e4-b2fd-ee4148edaa5c",
   "metadata": {},
   "outputs": [
    {
     "name": "stdout",
     "output_type": "stream",
     "text": [
      "Hello, World!\n"
     ]
    }
   ],
   "source": [
    "print(\"Hello, World!\")"
   ]
  },
  {
   "cell_type": "markdown",
   "id": "0c3bf080-263c-49f6-b2a8-9d1d2e9e6720",
   "metadata": {},
   "source": [
    "Q-2 Write a Python program that displays your name and age"
   ]
  },
  {
   "cell_type": "code",
   "execution_count": 20,
   "id": "ef16d8c5-b9be-46fb-a79f-dde13628f7ea",
   "metadata": {},
   "outputs": [
    {
     "name": "stdout",
     "output_type": "stream",
     "text": [
      "Name : Akash\n",
      "Age : 30\n"
     ]
    }
   ],
   "source": [
    "name = \"Akash\"\n",
    "age = 30\n",
    "print(f\"Name : {name}\\nAge : {age}\")"
   ]
  },
  {
   "cell_type": "markdown",
   "id": "64d0be5f-cac6-4baf-8144-5c80ec03afb6",
   "metadata": {},
   "source": [
    "Q-3. Write code to print all the pre-defined keywords in Python using the keyword library"
   ]
  },
  {
   "cell_type": "code",
   "execution_count": 21,
   "id": "4ee36469-3e77-4be7-9a57-680ab2243c7f",
   "metadata": {},
   "outputs": [
    {
     "name": "stdout",
     "output_type": "stream",
     "text": [
      "\n",
      "Here is a list of the Python keywords.  Enter any keyword to get more help.\n",
      "\n",
      "False               class               from                or\n",
      "None                continue            global              pass\n",
      "True                def                 if                  raise\n",
      "and                 del                 import              return\n",
      "as                  elif                in                  try\n",
      "assert              else                is                  while\n",
      "async               except              lambda              with\n",
      "await               finally             nonlocal            yield\n",
      "break               for                 not                 \n",
      "\n"
     ]
    }
   ],
   "source": [
    "help(\"keywords\")"
   ]
  },
  {
   "cell_type": "markdown",
   "id": "57aba8c0-0d4c-409a-a665-2426deab6858",
   "metadata": {},
   "source": [
    "Q-4. Write a program that checks if a given word is a Python keyword"
   ]
  },
  {
   "cell_type": "code",
   "execution_count": 24,
   "id": "9ed940af-e72c-4efe-89d5-c8679d08de9c",
   "metadata": {},
   "outputs": [
    {
     "name": "stdin",
     "output_type": "stream",
     "text": [
      "Enter a word to check whether it is a Python keyword or not :  int\n"
     ]
    },
    {
     "name": "stdout",
     "output_type": "stream",
     "text": [
      " int is not a python keyword\n"
     ]
    }
   ],
   "source": [
    "import keyword\n",
    "word = input(\"Enter a word to check whether it is a Python keyword or not : \")\n",
    "\n",
    "if keyword.iskeyword(word):\n",
    "    print(f\" {word} is a python keyword\")\n",
    "else:\n",
    "    print(f\" {word} is not a python keyword\")"
   ]
  },
  {
   "cell_type": "markdown",
   "id": "5575706e-d625-443c-9403-879f33ce6fa9",
   "metadata": {},
   "source": [
    "Q-5. Create a list and tuple in Python, and demonstrate how attempting to change an element works differently\n",
    "for each"
   ]
  },
  {
   "cell_type": "code",
   "execution_count": 26,
   "id": "82d868bf-2a4f-49c8-98aa-ff4cb29cfd86",
   "metadata": {},
   "outputs": [
    {
     "name": "stdout",
     "output_type": "stream",
     "text": [
      "['Akash', 30, 'Data Analyst', 70000]\n"
     ]
    }
   ],
   "source": [
    "# creating list\n",
    "list_1 = [\"Akash\", 30, \"Data Analyst\", 50000]\n",
    "#creating tuple\n",
    "tup_1 = (\"Atul\", 27, \"Software Engineer\", 40000)\n",
    "\n",
    "# changing the element in list & tuple\n",
    "list_1[3] = 70000  #it will change the salary from 50000 to 70000 because mutability is allowed in LIST\n",
    "print(list_1)\n",
    "\n",
    "tup_1[1] = 28  #throw an error because mutability is not allowed in TUPLE"
   ]
  },
  {
   "cell_type": "markdown",
   "id": "5c08bc60-7b42-4601-813a-3486a592b86d",
   "metadata": {},
   "source": [
    "Q-6. Write a function to demonstrate the behavior of mutable and immutable arguments"
   ]
  },
  {
   "cell_type": "code",
   "execution_count": null,
   "id": "0d8a48ba-d97a-4041-8a72-d0a6585d99db",
   "metadata": {},
   "outputs": [],
   "source": []
  },
  {
   "cell_type": "markdown",
   "id": "3f98e14b-9adc-4210-b91e-af65a5f7465f",
   "metadata": {},
   "source": [
    "Q-7. Write a program that performs basic arithmetic operations on two user-input numbers"
   ]
  },
  {
   "cell_type": "code",
   "execution_count": 27,
   "id": "f2d94417-8dbf-4a4f-a0d8-54e47b89b7ad",
   "metadata": {},
   "outputs": [
    {
     "name": "stdin",
     "output_type": "stream",
     "text": [
      "Enter first number :  5\n",
      "Enter second number :  15\n"
     ]
    },
    {
     "name": "stdout",
     "output_type": "stream",
     "text": [
      "Sum of the two numbers is :  20\n"
     ]
    }
   ],
   "source": [
    "num_1 = int(input(\"Enter first number : \"))\n",
    "num_2 = int(input(\"Enter second number : \"))\n",
    "\n",
    "result = num_1 + num_2\n",
    "print(\"Sum of the two numbers is : \", result)"
   ]
  },
  {
   "cell_type": "markdown",
   "id": "2eb0b970-965c-4f33-a813-53cd0b1814e9",
   "metadata": {},
   "source": [
    "Q-8. Write a program to demonstrate the use of logical operators"
   ]
  },
  {
   "cell_type": "code",
   "execution_count": 49,
   "id": "9c4f29b6-6bfa-483f-b84e-bdf1aff969af",
   "metadata": {},
   "outputs": [
    {
     "name": "stdout",
     "output_type": "stream",
     "text": [
      "Logical operators demonstration\n"
     ]
    },
    {
     "name": "stdin",
     "output_type": "stream",
     "text": [
      "Enter first value (True/False) :  0\n",
      "Enter second value (True/False) :  1\n"
     ]
    },
    {
     "name": "stdout",
     "output_type": "stream",
     "text": [
      "False AND True = False\n",
      "False OR True = True\n",
      "NOT False = True\n",
      "NOT True = False\n"
     ]
    }
   ],
   "source": [
    "print(\"Logical operators demonstration\")\n",
    "\n",
    "val_1 = input(\"Enter first value (True/False) : \").lower()\n",
    "val_2 = input(\"Enter second value (True/False) : \").lower()\n",
    "\n",
    "# Convert user input to boolean\n",
    "def to_bool(val):\n",
    "    return val in [\"true\", \"1\", \"yes\"]\n",
    "\n",
    "bool_1 = to_bool(val_1)\n",
    "bool_2 = to_bool(val_2)\n",
    "\n",
    "# Demonstrate AND operator\n",
    "print(f\"{bool_1} AND {bool_2} = {bool_1 and bool_2}\")\n",
    "\n",
    "# Demonstrate OR operator\n",
    "print(f\"{bool_1} OR {bool_2} = {bool_1 or bool_2}\")\n",
    "\n",
    "# Demonstrate NOT operator\n",
    "print(f\"NOT {bool_1} = {not bool_1}\")\n",
    "print(f\"NOT {bool_2} = {not bool_2}\")"
   ]
  },
  {
   "cell_type": "markdown",
   "id": "27caa6ca-f185-4cd4-b8da-3231d20c7c12",
   "metadata": {},
   "source": [
    "Q-9. Write a Python program to convert user input from string to integer, float, and boolean types"
   ]
  },
  {
   "cell_type": "code",
   "execution_count": 29,
   "id": "f8b65934-12ea-463c-8d9b-cdbdce65a576",
   "metadata": {},
   "outputs": [
    {
     "name": "stdout",
     "output_type": "stream",
     "text": [
      "1015\n"
     ]
    },
    {
     "data": {
      "text/plain": [
       "str"
      ]
     },
     "execution_count": 29,
     "metadata": {},
     "output_type": "execute_result"
    }
   ],
   "source": [
    "#converting string to int\n",
    "# num_1 = input(\"Enter one mathematical number : \")\n",
    "num = \"10\"\n",
    "int(num)\n",
    "result = num + \"15\"\n",
    "print(result)\n",
    "type(num)"
   ]
  },
  {
   "cell_type": "markdown",
   "id": "4e6947ff-dbb2-474f-95d1-c0c20e0ea55f",
   "metadata": {},
   "source": [
    "Q-10. Write code to demonstrate type casting with list elements."
   ]
  },
  {
   "cell_type": "code",
   "execution_count": 53,
   "id": "61b39f5c-eccf-4871-9f07-57ad7e68296b",
   "metadata": {},
   "outputs": [
    {
     "name": "stdout",
     "output_type": "stream",
     "text": [
      "Before converting to integer\n",
      "['10', '20', '30', '40', '50', '60']\n",
      "After converting to integer\n",
      "[10, 20, 30, 40, 50, 60]\n"
     ]
    }
   ],
   "source": [
    "str_list = [\"10\", \"20\", \"30\", \"40\", \"50\", \"60\"]\n",
    "print(\"Before converting to integer\")\n",
    "print(str_list)\n",
    "\n",
    "# converting string type to integer type\n",
    "int_list = [int(item) for item in str_list]\n",
    "print(\"After converting to integer\")\n",
    "print(int_list)"
   ]
  },
  {
   "cell_type": "markdown",
   "id": "34e036d6-58b1-46ac-8b48-8eae607a9acc",
   "metadata": {},
   "source": [
    "Q-11. Write a program that checks if a number is positive, negative, or zero."
   ]
  },
  {
   "cell_type": "code",
   "execution_count": 35,
   "id": "5353d191-7463-47b2-a95a-085e57f745b1",
   "metadata": {},
   "outputs": [
    {
     "name": "stdin",
     "output_type": "stream",
     "text": [
      "Enter any number :  5\n"
     ]
    },
    {
     "name": "stdout",
     "output_type": "stream",
     "text": [
      "The number is positive\n"
     ]
    }
   ],
   "source": [
    "num = int(input(\"Enter any number : \"))\n",
    "if num > 0:\n",
    "    print(\"The number is positive\")\n",
    "elif num < 0:\n",
    "    print(\"The number is negative\")\n",
    "else:\n",
    "    print(\"The number is zero\")"
   ]
  },
  {
   "cell_type": "markdown",
   "id": "f0529ae8-702d-4d0b-a9b4-d9d1f27707f8",
   "metadata": {},
   "source": [
    "Q-12. Write a for loop to print numbers from 1 to 10."
   ]
  },
  {
   "cell_type": "code",
   "execution_count": 37,
   "id": "830868c7-370f-476d-be49-fd809a89bbd0",
   "metadata": {},
   "outputs": [
    {
     "name": "stdout",
     "output_type": "stream",
     "text": [
      "Numbers from 1 to 10 using while loop\n",
      "1\n",
      "2\n",
      "3\n",
      "4\n",
      "5\n",
      "6\n",
      "7\n",
      "8\n",
      "9\n",
      "10\n"
     ]
    }
   ],
   "source": [
    "print(\"Numbers from 1 to 10 using while loop\")\n",
    "for i in range(1, 11):\n",
    "    print(i)"
   ]
  },
  {
   "cell_type": "markdown",
   "id": "49c1c9f7-16df-43a3-a2cd-a69131da3865",
   "metadata": {},
   "source": [
    "Q-13. Write a Python program to find the sum of all even numbers between 1 and 50."
   ]
  },
  {
   "cell_type": "code",
   "execution_count": 38,
   "id": "0fc06cf3-8239-4e04-bc98-4d5f0da78713",
   "metadata": {},
   "outputs": [
    {
     "name": "stdout",
     "output_type": "stream",
     "text": [
      "Sum of Even numbers from 1 to 50 is :  650\n"
     ]
    }
   ],
   "source": [
    "sum = 0\n",
    "for i in range(1, 51):\n",
    "    if i % 2 == 0:\n",
    "        sum += i\n",
    "\n",
    "print(\"Sum of Even numbers from 1 to 50 is : \", sum)"
   ]
  },
  {
   "cell_type": "markdown",
   "id": "156ed3d0-2ad9-4aa4-b298-985ab4f09880",
   "metadata": {},
   "source": [
    "Q-14. Write a program to reverse a string using a while loop."
   ]
  },
  {
   "cell_type": "code",
   "execution_count": 39,
   "id": "62fa9b0b-5f21-4c2e-b777-5817ab94247e",
   "metadata": {},
   "outputs": [
    {
     "name": "stdout",
     "output_type": "stream",
     "text": [
      "Orginal string is :  Akash Kumar\n",
      "Reversed string is :  ramuK hsakA\n"
     ]
    }
   ],
   "source": [
    "name = \"Akash Kumar\"\n",
    "reversed_name = \"\"\n",
    "\n",
    "index = len(name)-1\n",
    "\n",
    "while index >= 0:\n",
    "    reversed_name += name[index]\n",
    "    index-=1\n",
    "\n",
    "print(\"Orginal string is : \", name)\n",
    "print(\"Reversed string is : \", reversed_name)"
   ]
  },
  {
   "cell_type": "markdown",
   "id": "b8523afb-b5ca-4d9f-b966-2c91bf431a45",
   "metadata": {},
   "source": [
    "Q-15. Write a Python program to calculate the factorial of a number provided by the user using a while loop."
   ]
  },
  {
   "cell_type": "code",
   "execution_count": 12,
   "id": "d5a53696-e02f-4476-9b93-dab57bdb3efc",
   "metadata": {},
   "outputs": [
    {
     "name": "stdin",
     "output_type": "stream",
     "text": [
      "Enter any positive number :  -5\n"
     ]
    },
    {
     "name": "stdout",
     "output_type": "stream",
     "text": [
      "Factorial is not defined for negative numbers\n"
     ]
    }
   ],
   "source": [
    "num = int(input(\"Enter any positive number : \"))\n",
    "\n",
    "if(num < 0):\n",
    "    print(\"Factorial is not defined for negative numbers\")\n",
    "else:\n",
    "    fact = 1\n",
    "    temp_num = num\n",
    "    while temp_num > 1:\n",
    "        fact = fact * temp_num\n",
    "        temp_num-=1\n",
    "    print(f\"Factorial of the {num} is {fact}\")\n"
   ]
  },
  {
   "cell_type": "code",
   "execution_count": null,
   "id": "2d0f3983-4217-494b-947d-38813d05dd4e",
   "metadata": {},
   "outputs": [],
   "source": []
  }
 ],
 "metadata": {
  "kernelspec": {
   "display_name": "Python 3 (ipykernel)",
   "language": "python",
   "name": "python3"
  },
  "language_info": {
   "codemirror_mode": {
    "name": "ipython",
    "version": 3
   },
   "file_extension": ".py",
   "mimetype": "text/x-python",
   "name": "python",
   "nbconvert_exporter": "python",
   "pygments_lexer": "ipython3",
   "version": "3.13.3"
  }
 },
 "nbformat": 4,
 "nbformat_minor": 5
}
